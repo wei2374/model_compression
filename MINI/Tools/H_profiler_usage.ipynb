{
 "metadata": {
  "language_info": {
   "codemirror_mode": {
    "name": "ipython",
    "version": 3
   },
   "file_extension": ".py",
   "mimetype": "text/x-python",
   "name": "python",
   "nbconvert_exporter": "python",
   "pygments_lexer": "ipython3",
   "version": "3.8.9"
  },
  "orig_nbformat": 2,
  "kernelspec": {
   "name": "python389jvsc74a57bd0767d51c1340bd893661ea55ea3124f6de3c7a262a8b4abca0554b478b1e2ff90",
   "display_name": "Python 3.8.9 64-bit"
  },
  "metadata": {
   "interpreter": {
    "hash": "767d51c1340bd893661ea55ea3124f6de3c7a262a8b4abca0554b478b1e2ff90"
   }
  }
 },
 "nbformat": 4,
 "nbformat_minor": 2,
 "cells": [
  {
   "cell_type": "code",
   "execution_count": 2,
   "metadata": {},
   "outputs": [],
   "source": [
    "import tensorflow as tf\n",
    "from profilers.resource_profilers import timeline_profiler, tensorboard_profiler, tensorflow_profiler\n",
    "from profilers.perf_profilers import performance_profiler"
   ]
  },
  {
   "cell_type": "code",
   "execution_count": 4,
   "metadata": {},
   "outputs": [
    {
     "output_type": "stream",
     "name": "stdout",
     "text": [
      "WARNING:tensorflow:No training configuration found in save file, so the model was *not* compiled. Compile it manually.\n"
     ]
    }
   ],
   "source": [
    "with tf.device('/cpu:0'):\n",
    "    my_model = tf.keras.models.load_model('mymodel_tucker')"
   ]
  },
  {
   "cell_type": "code",
   "execution_count": 10,
   "metadata": {},
   "outputs": [
    {
     "output_type": "stream",
     "name": "stdout",
     "text": [
      "Tensorboard profiler finishes its work, result is written into profilers/log/profile\n"
     ]
    }
   ],
   "source": [
    "tensorboard_profiler(my_model,  \"profilers/log/profile\")\n",
    "#!tensorboard --logdir=\"/home/wei-bshg/Documents/code/tf_with_dec/profilers/log/profile/\""
   ]
  },
  {
   "cell_type": "code",
   "execution_count": 4,
   "metadata": {},
   "outputs": [
    {
     "output_type": "stream",
     "name": "stdout",
     "text": [
      "Timeline profiler finishes its work, result is written into profilers/log/timeline_testing.json\n"
     ]
    }
   ],
   "source": [
    "timeline_profiler(my_model, \"profilers/log/timeline_testing.json\")"
   ]
  },
  {
   "cell_type": "code",
   "execution_count": 5,
   "metadata": {},
   "outputs": [
    {
     "output_type": "stream",
     "name": "stdout",
     "text": [
      "WARNING:tensorflow:From /home/wei-bshg/.local/lib/python3.8/site-packages/tensorflow/python/profiler/internal/flops_registry.py:142: tensor_shape_from_node_def_name (from tensorflow.python.framework.graph_util_impl) is deprecated and will be removed in a future version.\n",
      "Instructions for updating:\n",
      "Use `tf.compat.v1.graph_util.tensor_shape_from_node_def_name`\n",
      "Tensorboard profiler finishes its work, result is written into profilers/log/tensorflow_testing.txt\n"
     ]
    }
   ],
   "source": [
    "tensorflow_profiler(my_model, \"profilers/log/tensorflow_testing.txt\")"
   ]
  },
  {
   "cell_type": "code",
   "execution_count": 6,
   "metadata": {},
   "outputs": [
    {
     "output_type": "stream",
     "name": "stdout",
     "text": [
      "Found 10 images belonging to 1000 classes.\n",
      "/home/wei-bshg/.local/lib/python3.8/site-packages/tensorflow/python/keras/engine/training.py:2325: UserWarning: `Model.state_updates` will be removed in a future version. This property should not be used in TensorFlow 2.0, as `updates` are applied automatically.\n",
      "  warnings.warn('`Model.state_updates` will be removed in a future version. '\n"
     ]
    },
    {
     "output_type": "execute_result",
     "data": {
      "text/plain": [
       "{'loss': 1.4919335842132568, 'categorical_accuracy': 0.6}"
      ]
     },
     "metadata": {},
     "execution_count": 6
    }
   ],
   "source": [
    "performance_profiler(my_model, \"datasets/ImageNet_1000_mini\",[tf.keras.metrics.CategoricalAccuracy()], 0.2)"
   ]
  }
 ]
}