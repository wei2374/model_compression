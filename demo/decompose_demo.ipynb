{
 "cells": [
  {
   "cell_type": "code",
   "execution_count": null,
   "source": [
    "import tensorflow as tf\n",
    "import sys, os\n",
    "sys.path.insert(0, '/home/wei-bshg/Documents/code/nn_compression')\n",
    "from model.model import CompressModel\n"
   ],
   "outputs": [],
   "metadata": {}
  },
  {
   "cell_type": "code",
   "execution_count": null,
   "source": [
    "model_dir = \"/home/wei-bshg/Documents/code/models/\"\n",
    "decompose_setting = {}\n",
    "decompose_setting[\"schema\"] = \"channel_all\"\n",
    "decompose_setting[\"rank_selection\"] = \"Param\"\n",
    "decompose_setting[\"param\"] = 0.25\n",
    "decompose_setting[\"range\"] = [3, -1]\n",
    "decompose_setting[\"big_kernel_only\"] = True\n",
    "decompose_setting[\"option\"] = \"CL\""
   ],
   "outputs": [],
   "metadata": {}
  },
  {
   "cell_type": "code",
   "execution_count": 1,
   "source": [
    "import tensorflow as tf\n",
    "import sys\n",
    "sys.path.insert(0, '/home/wei-bshg/Documents/code/model_compression')\n",
    "from model.model import CompressModel"
   ],
   "outputs": [],
   "metadata": {}
  },
  {
   "cell_type": "code",
   "execution_count": 2,
   "source": [
    "model_dir = \"/home/wei-bshg/Documents/code/models/\"\n"
   ],
   "outputs": [],
   "metadata": {}
  },
  {
   "cell_type": "code",
   "execution_count": 3,
   "source": [
    "my_model = CompressModel(\n",
    "   original_model=model_dir+'food20_VGG16_ft.h5',\n",
    "   dataset=\"food20\",\n",
    "   preprocessing=\"vgg16\")"
   ],
   "outputs": [],
   "metadata": {}
  },
  {
   "cell_type": "code",
   "execution_count": 4,
   "source": [
    "decompose_setting = {}\n",
    "decompose_setting[\"schema\"] = \"tucker2D\"\n",
    "decompose_setting[\"rank_selection\"] = \"VBMF_auto\"\n",
    "decompose_setting[\"param\"] = 0.25\n",
    "decompose_setting[\"range\"] = [3, -1]\n",
    "decompose_setting[\"big_kernel_only\"] = True\n",
    "decompose_setting[\"option\"] = \"CL\"\n",
    "my_model.decompose_model(decompose_setting)\n"
   ],
   "outputs": [
    {
     "output_type": "stream",
     "name": "stdout",
     "text": [
      "Model being decomposed with tucker2D decomposition ... |################################| 100/100KerasTensor(type_spec=TensorSpec(shape=(None, 25088), dtype=tf.float32, name=None), name='flatten/Reshape:0', description=\"created by layer 'flatten'\")\n",
      "KerasTensor(type_spec=TensorSpec(shape=(None, 202), dtype=tf.float32, name=None), name='dense/Relu:0', description=\"created by layer 'dense'\")\n",
      "KerasTensor(type_spec=TensorSpec(shape=(None, 202), dtype=tf.float32, name=None), name='dense_1/Relu:0', description=\"created by layer 'dense_1'\")\n",
      "\n",
      "Total FLOPS : 30709608024.00000000\n",
      "\n",
      "\n",
      "Total MACCs: 15351743276.00000000\n",
      "\n",
      "KerasTensor(type_spec=TensorSpec(shape=(None, 25088), dtype=tf.float32, name=None), name='flatten/Reshape:0', description=\"created by layer 'flatten'\")\n",
      "KerasTensor(type_spec=TensorSpec(shape=(None, 202), dtype=tf.float32, name=None), name='dense/Relu:0', description=\"created by layer 'dense'\")\n",
      "KerasTensor(type_spec=TensorSpec(shape=(None, 202), dtype=tf.float32, name=None), name='dense_1/Relu:0', description=\"created by layer 'dense_1'\")\n",
      "\n",
      "Total FLOPS : 8215777000.00000000\n",
      "\n",
      "\n",
      "Total MACCs: 4104827764.00000000\n",
      "\n"
     ]
    },
    {
     "output_type": "display_data",
     "data": {
      "text/plain": [
       "<Figure size 432x288 with 0 Axes>"
      ]
     },
     "metadata": {}
    }
   ],
   "metadata": {}
  },
  {
   "cell_type": "code",
   "execution_count": null,
   "source": [
    "my_model.fine_tuning(optimizer=\"cycling\", small_part=0.05)"
   ],
   "outputs": [],
   "metadata": {}
  }
 ],
 "metadata": {
  "orig_nbformat": 4,
  "language_info": {
   "name": "python",
   "version": "3.8.11",
   "mimetype": "text/x-python",
   "codemirror_mode": {
    "name": "ipython",
    "version": 3
   },
   "pygments_lexer": "ipython3",
   "nbconvert_exporter": "python",
   "file_extension": ".py"
  },
  "kernelspec": {
   "name": "python3",
   "display_name": "Python 3.8.11 64-bit"
  },
  "interpreter": {
   "hash": "767d51c1340bd893661ea55ea3124f6de3c7a262a8b4abca0554b478b1e2ff90"
  }
 },
 "nbformat": 4,
 "nbformat_minor": 2
}