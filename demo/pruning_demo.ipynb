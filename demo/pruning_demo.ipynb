{
 "cells": [
  {
   "cell_type": "code",
   "execution_count": 1,
   "source": [
    "import tensorflow as tf\n",
    "import sys, os\n",
    "sys.path.insert(0, '/home/wei-bshg/Documents/code/model_compression')\n",
    "from model.model import CompressModel\n"
   ],
   "outputs": [],
   "metadata": {}
  },
  {
   "cell_type": "code",
   "execution_count": 7,
   "source": [
    "model_dir = \"/home/wei-bshg/Documents/code/models/\"\n"
   ],
   "outputs": [],
   "metadata": {}
  },
  {
   "cell_type": "code",
   "execution_count": 4,
   "source": [
    "my_model = CompressModel(\n",
    "   original_model=model_dir+'food20_VGG16_ft.h5',\n",
    "   dataset=\"food20\",\n",
    "   preprocessing=\"vgg16\")"
   ],
   "outputs": [
    {
     "output_type": "stream",
     "name": "stdout",
     "text": [
      "WARNING:tensorflow:From /home/wei-bshg/.local/lib/python3.8/site-packages/tensorflow/python/ops/nn_ops.py:4893: tensor_shape_from_node_def_name (from tensorflow.python.framework.graph_util_impl) is deprecated and will be removed in a future version.\n",
      "Instructions for updating:\n",
      "Use `tf.compat.v1.graph_util.tensor_shape_from_node_def_name`\n"
     ]
    }
   ],
   "metadata": {}
  },
  {
   "cell_type": "code",
   "execution_count": 8,
   "source": [
    "pruning_settings = {}\n",
    "pruning_settings[\"method\"] = \"layerwise\"\n",
    "pruning_settings[\"criterion\"] = \"activation\"\n",
    "pruning_settings[\"ratio_est\"] = \"uniform\"\n",
    "pruning_settings[\"param\"] = 0.22\n",
    "pruning_settings[\"range\"] = [1, -1]\n",
    "pruning_settings[\"option\"] = \"CL\"\n",
    "pruning_settings[\"big_kernel_only\"] = False\n",
    "\n",
    "my_model.prune_model(pruning_settings)\n"
   ],
   "outputs": [
    {
     "output_type": "stream",
     "name": "stdout",
     "text": [
      "Prune ratio estimation with uniform method... |################################| 100/100Found 15000 images belonging to 20 classes.\n",
      "Found 5000 images belonging to 20 classes.\n",
      "Layerwise channel pruning... |################################| 100/100"
     ]
    },
    {
     "output_type": "display_data",
     "data": {
      "text/plain": [
       "<Figure size 432x288 with 0 Axes>"
      ]
     },
     "metadata": {}
    },
    {
     "output_type": "display_data",
     "data": {
      "text/plain": [
       "<Figure size 1440x1288.84 with 0 Axes>"
      ]
     },
     "metadata": {}
    }
   ],
   "metadata": {}
  },
  {
   "cell_type": "code",
   "execution_count": null,
   "source": [
    "my_model.fine_tuning(optimizer=\"cycling\", small_part=0.05)"
   ],
   "outputs": [],
   "metadata": {}
  }
 ],
 "metadata": {
  "orig_nbformat": 4,
  "language_info": {
   "name": "python",
   "version": "3.8.11",
   "mimetype": "text/x-python",
   "codemirror_mode": {
    "name": "ipython",
    "version": 3
   },
   "pygments_lexer": "ipython3",
   "nbconvert_exporter": "python",
   "file_extension": ".py"
  },
  "kernelspec": {
   "name": "python3",
   "display_name": "Python 3.8.11 64-bit"
  },
  "interpreter": {
   "hash": "767d51c1340bd893661ea55ea3124f6de3c7a262a8b4abca0554b478b1e2ff90"
  }
 },
 "nbformat": 4,
 "nbformat_minor": 2
}
